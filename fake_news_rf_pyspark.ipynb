{
  "nbformat": 4,
  "nbformat_minor": 0,
  "metadata": {
    "colab": {
      "name": "fake_news_rf_pyspark.ipynb",
      "provenance": [],
      "collapsed_sections": [],
      "toc_visible": true
    },
    "kernelspec": {
      "display_name": "Python 3",
      "name": "python3"
    }
  },
  "cells": [
    {
      "cell_type": "markdown",
      "metadata": {
        "id": "mIuBjVh0ZSOO"
      },
      "source": [
        "# ***Loading the data into data frames***"
      ]
    },
    {
      "cell_type": "code",
      "metadata": {
        "id": "VoLRv7Qsr5uh",
        "colab": {
          "base_uri": "https://localhost:8080/"
        },
        "outputId": "c621f30f-9b31-4d16-bfd1-801a81e4f6e4"
      },
      "source": [
        "import pandas as pd\r\n",
        "import numpy as np\r\n",
        "import nltk\r\n",
        "from nltk.corpus import stopwords\r\n",
        "#from gensim.models import Word2Vec\r\n",
        "from sklearn import preprocessing\r\n",
        "from sklearn.feature_extraction.text import TfidfTransformer\r\n",
        "from sklearn.feature_extraction.text import CountVectorizer\r\n",
        "from sklearn.pipeline import Pipeline\r\n",
        "from sklearn.feature_extraction.text import TfidfVectorizer\r\n",
        "from sklearn.decomposition import TruncatedSVD\r\n",
        "\r\n",
        "\r\n",
        "nltk.download('punkt')\r\n",
        "nltk.download('stopwords')\r\n",
        "stopWords = set(stopwords.words('english'))\r\n",
        "le = preprocessing.LabelEncoder()\r\n",
        "\r\n",
        "true_df = pd.read_csv('./True.csv')\r\n",
        "fake_df = pd.read_csv('./Fake.csv')\r\n",
        "\r\n",
        "true_df['fake'] = 0\r\n",
        "fake_df['fake'] = 1\r\n",
        "data = pd.concat([true_df,fake_df])\r\n",
        "data = data.sample(frac=1).reset_index(drop=True)"
      ],
      "execution_count": null,
      "outputs": [
        {
          "output_type": "stream",
          "text": [
            "[nltk_data] Downloading package punkt to /root/nltk_data...\n",
            "[nltk_data]   Package punkt is already up-to-date!\n",
            "[nltk_data] Downloading package stopwords to /root/nltk_data...\n",
            "[nltk_data]   Package stopwords is already up-to-date!\n"
          ],
          "name": "stdout"
        }
      ]
    },
    {
      "cell_type": "code",
      "metadata": {
        "colab": {
          "base_uri": "https://localhost:8080/",
          "height": 1000
        },
        "id": "XK9-v1QFukD3",
        "outputId": "6ea89b00-1374-45d4-99dd-c7bc4325824c"
      },
      "source": [
        "data.head(30)"
      ],
      "execution_count": null,
      "outputs": [
        {
          "output_type": "execute_result",
          "data": {
            "text/html": [
              "<div>\n",
              "<style scoped>\n",
              "    .dataframe tbody tr th:only-of-type {\n",
              "        vertical-align: middle;\n",
              "    }\n",
              "\n",
              "    .dataframe tbody tr th {\n",
              "        vertical-align: top;\n",
              "    }\n",
              "\n",
              "    .dataframe thead th {\n",
              "        text-align: right;\n",
              "    }\n",
              "</style>\n",
              "<table border=\"1\" class=\"dataframe\">\n",
              "  <thead>\n",
              "    <tr style=\"text-align: right;\">\n",
              "      <th></th>\n",
              "      <th>title</th>\n",
              "      <th>text</th>\n",
              "      <th>subject</th>\n",
              "      <th>date</th>\n",
              "      <th>fake</th>\n",
              "    </tr>\n",
              "  </thead>\n",
              "  <tbody>\n",
              "    <tr>\n",
              "      <th>0</th>\n",
              "      <td>Anti-Trump Protester’s X-Rated Comment Angers ...</td>\n",
              "      <td>This is rich! A live feed from MSNBC was tryin...</td>\n",
              "      <td>left-news</td>\n",
              "      <td>May 28, 2016</td>\n",
              "      <td>1</td>\n",
              "    </tr>\n",
              "    <tr>\n",
              "      <th>1</th>\n",
              "      <td>Tillerson, on first day, addresses dissent and...</td>\n",
              "      <td>WASHINGTON (Reuters) - U.S. Secretary of State...</td>\n",
              "      <td>politicsNews</td>\n",
              "      <td>February 2, 2017</td>\n",
              "      <td>0</td>\n",
              "    </tr>\n",
              "    <tr>\n",
              "      <th>2</th>\n",
              "      <td>New Mexico Is Erasing Actual Science From The...</td>\n",
              "      <td>Education standards,  it seems, is now a term...</td>\n",
              "      <td>News</td>\n",
              "      <td>September 29, 2017</td>\n",
              "      <td>1</td>\n",
              "    </tr>\n",
              "    <tr>\n",
              "      <th>3</th>\n",
              "      <td>China warns against attempts to contain Beijin...</td>\n",
              "      <td>WASHINGTON (Reuters) - China s ambassador to W...</td>\n",
              "      <td>worldnews</td>\n",
              "      <td>October 30, 2017</td>\n",
              "      <td>0</td>\n",
              "    </tr>\n",
              "    <tr>\n",
              "      <th>4</th>\n",
              "      <td>U.S. to issue rules to tighten individual trav...</td>\n",
              "      <td>WASHINGTON (Reuters) - The Trump administratio...</td>\n",
              "      <td>politicsNews</td>\n",
              "      <td>June 16, 2017</td>\n",
              "      <td>0</td>\n",
              "    </tr>\n",
              "    <tr>\n",
              "      <th>5</th>\n",
              "      <td>Congressman seeks probe of chartered flights b...</td>\n",
              "      <td>NEW YORK/WASHINGTON (Reuters) - A Democratic U...</td>\n",
              "      <td>politicsNews</td>\n",
              "      <td>October 12, 2017</td>\n",
              "      <td>0</td>\n",
              "    </tr>\n",
              "    <tr>\n",
              "      <th>6</th>\n",
              "      <td>FORMER DEMOCRAT WARNS Young Americans: “Rioter...</td>\n",
              "      <td>Who is silencing political speech, physically...</td>\n",
              "      <td>politics</td>\n",
              "      <td>Mar 10, 2017</td>\n",
              "      <td>1</td>\n",
              "    </tr>\n",
              "    <tr>\n",
              "      <th>7</th>\n",
              "      <td>Car bomber kills at least 15 in Yemeni port Ad...</td>\n",
              "      <td>ADEN (Reuters) - A suicide car bomber blew him...</td>\n",
              "      <td>worldnews</td>\n",
              "      <td>November 5, 2017</td>\n",
              "      <td>0</td>\n",
              "    </tr>\n",
              "    <tr>\n",
              "      <th>8</th>\n",
              "      <td>U.S. Interior Secretary investigated over spee...</td>\n",
              "      <td>WASHINGTON (Reuters) - The U.S. Office of Spec...</td>\n",
              "      <td>politicsNews</td>\n",
              "      <td>October 3, 2017</td>\n",
              "      <td>0</td>\n",
              "    </tr>\n",
              "    <tr>\n",
              "      <th>9</th>\n",
              "      <td>Clinton: Senate should consider Obama's high c...</td>\n",
              "      <td>WASHINGTON (Reuters) - Democratic presidential...</td>\n",
              "      <td>politicsNews</td>\n",
              "      <td>March 16, 2016</td>\n",
              "      <td>0</td>\n",
              "    </tr>\n",
              "    <tr>\n",
              "      <th>10</th>\n",
              "      <td>FBI Is Investigating Itself After Its Twitter...</td>\n",
              "      <td>Less than a week before one of the most import...</td>\n",
              "      <td>News</td>\n",
              "      <td>November 3, 2016</td>\n",
              "      <td>1</td>\n",
              "    </tr>\n",
              "    <tr>\n",
              "      <th>11</th>\n",
              "      <td>These Secret Koch Bros. Memos Expose Propagan...</td>\n",
              "      <td>Secret memos have been unearthed that show the...</td>\n",
              "      <td>News</td>\n",
              "      <td>February 8, 2016</td>\n",
              "      <td>1</td>\n",
              "    </tr>\n",
              "    <tr>\n",
              "      <th>12</th>\n",
              "      <td>Blaming judges is 'corrosive,' says a judge wh...</td>\n",
              "      <td>HONOLULU (Reuters) - One of three federal appe...</td>\n",
              "      <td>politicsNews</td>\n",
              "      <td>March 16, 2017</td>\n",
              "      <td>0</td>\n",
              "    </tr>\n",
              "    <tr>\n",
              "      <th>13</th>\n",
              "      <td>Bill Maher Announces Sarah Palin Is Becoming ...</td>\n",
              "      <td>Bill Maher and his guests took an opportunity ...</td>\n",
              "      <td>News</td>\n",
              "      <td>April 9, 2016</td>\n",
              "      <td>1</td>\n",
              "    </tr>\n",
              "    <tr>\n",
              "      <th>14</th>\n",
              "      <td>U.N. rights boss urges Mexico not to enshrine ...</td>\n",
              "      <td>GENEVA (Reuters) - The United Nations human ri...</td>\n",
              "      <td>worldnews</td>\n",
              "      <td>December 5, 2017</td>\n",
              "      <td>0</td>\n",
              "    </tr>\n",
              "    <tr>\n",
              "      <th>15</th>\n",
              "      <td>Japan's slide into war chronicled in Emperor H...</td>\n",
              "      <td>NEW YORK (Reuters) - Japan s Emperor Hirohito ...</td>\n",
              "      <td>worldnews</td>\n",
              "      <td>December 6, 2017</td>\n",
              "      <td>0</td>\n",
              "    </tr>\n",
              "    <tr>\n",
              "      <th>16</th>\n",
              "      <td>PRO-LIFE LICENSE PLATE DEEMED ‘Patently Offens...</td>\n",
              "      <td>Because after all, what s more offensive than ...</td>\n",
              "      <td>left-news</td>\n",
              "      <td>May 27, 2015</td>\n",
              "      <td>1</td>\n",
              "    </tr>\n",
              "    <tr>\n",
              "      <th>17</th>\n",
              "      <td>Economist Responsible For ‘Reaganomics’ Makes...</td>\n",
              "      <td>Arthur Laffer, known for inspiring Republican ...</td>\n",
              "      <td>News</td>\n",
              "      <td>January 10, 2016</td>\n",
              "      <td>1</td>\n",
              "    </tr>\n",
              "    <tr>\n",
              "      <th>18</th>\n",
              "      <td>U.S. bombers fly off North Korea's coast in sh...</td>\n",
              "      <td>WASHINGTON (Reuters) - U.S. Air Force B-1B Lan...</td>\n",
              "      <td>worldnews</td>\n",
              "      <td>September 23, 2017</td>\n",
              "      <td>0</td>\n",
              "    </tr>\n",
              "    <tr>\n",
              "      <th>19</th>\n",
              "      <td>Peru's Kuczynski swears in new Cabinet, opposi...</td>\n",
              "      <td>LIMA (Reuters) - Peruvian President Pedro Pabl...</td>\n",
              "      <td>worldnews</td>\n",
              "      <td>September 17, 2017</td>\n",
              "      <td>0</td>\n",
              "    </tr>\n",
              "    <tr>\n",
              "      <th>20</th>\n",
              "      <td>Judge blocks Indiana governor's order barring ...</td>\n",
              "      <td>(Reuters) - A U.S. judge on Monday blocked Ind...</td>\n",
              "      <td>politicsNews</td>\n",
              "      <td>February 29, 2016</td>\n",
              "      <td>0</td>\n",
              "    </tr>\n",
              "    <tr>\n",
              "      <th>21</th>\n",
              "      <td>U.S. theory on Democratic Party breach: Hacker...</td>\n",
              "      <td>WASHINGTON (Reuters) - Some U.S. intelligence ...</td>\n",
              "      <td>politicsNews</td>\n",
              "      <td>July 28, 2016</td>\n",
              "      <td>0</td>\n",
              "    </tr>\n",
              "    <tr>\n",
              "      <th>22</th>\n",
              "      <td>FBI DATA Shows Black-On-Black Murders Off The ...</td>\n",
              "      <td>America has never seen two people living in th...</td>\n",
              "      <td>left-news</td>\n",
              "      <td>Oct 1, 2016</td>\n",
              "      <td>1</td>\n",
              "    </tr>\n",
              "    <tr>\n",
              "      <th>23</th>\n",
              "      <td>SHRILLARY GIVES BITTER CONCESSION SPEECH In Ne...</td>\n",
              "      <td>Will the Democrats ultimately choose a Marxist...</td>\n",
              "      <td>politics</td>\n",
              "      <td>Feb 9, 2016</td>\n",
              "      <td>1</td>\n",
              "    </tr>\n",
              "    <tr>\n",
              "      <th>24</th>\n",
              "      <td>Trump Gets His A** Handed To Him By British L...</td>\n",
              "      <td>Donald Trump stuck his foot in his mouth again...</td>\n",
              "      <td>News</td>\n",
              "      <td>October 20, 2017</td>\n",
              "      <td>1</td>\n",
              "    </tr>\n",
              "    <tr>\n",
              "      <th>25</th>\n",
              "      <td>Burr: Nunes stepped aside to protect Russia pr...</td>\n",
              "      <td>WASHINGTON (Reuters) - The chairman of the Sen...</td>\n",
              "      <td>politicsNews</td>\n",
              "      <td>April 6, 2017</td>\n",
              "      <td>0</td>\n",
              "    </tr>\n",
              "    <tr>\n",
              "      <th>26</th>\n",
              "      <td>U.S. farm groups discuss policy with Clinton s...</td>\n",
              "      <td>CHICAGO (Reuters) - U.S. agriculture groups ar...</td>\n",
              "      <td>politicsNews</td>\n",
              "      <td>June 29, 2016</td>\n",
              "      <td>0</td>\n",
              "    </tr>\n",
              "    <tr>\n",
              "      <th>27</th>\n",
              "      <td>JUST IN: NEW DOCUMENTS Found Link Hillary to R...</td>\n",
              "      <td>This could get ugly and should! A  treasure tr...</td>\n",
              "      <td>politics</td>\n",
              "      <td>Nov 21, 2017</td>\n",
              "      <td>1</td>\n",
              "    </tr>\n",
              "    <tr>\n",
              "      <th>28</th>\n",
              "      <td>Putin opens monument to Stalin's victims, diss...</td>\n",
              "      <td>MOSCOW (Reuters) - President Vladimir Putin in...</td>\n",
              "      <td>worldnews</td>\n",
              "      <td>October 30, 2017</td>\n",
              "      <td>0</td>\n",
              "    </tr>\n",
              "    <tr>\n",
              "      <th>29</th>\n",
              "      <td>France to lead investigation into A380 engine ...</td>\n",
              "      <td>PARIS (Reuters) - France s air accident invest...</td>\n",
              "      <td>worldnews</td>\n",
              "      <td>October 3, 2017</td>\n",
              "      <td>0</td>\n",
              "    </tr>\n",
              "  </tbody>\n",
              "</table>\n",
              "</div>"
            ],
            "text/plain": [
              "                                                title  ... fake\n",
              "0   Anti-Trump Protester’s X-Rated Comment Angers ...  ...    1\n",
              "1   Tillerson, on first day, addresses dissent and...  ...    0\n",
              "2    New Mexico Is Erasing Actual Science From The...  ...    1\n",
              "3   China warns against attempts to contain Beijin...  ...    0\n",
              "4   U.S. to issue rules to tighten individual trav...  ...    0\n",
              "5   Congressman seeks probe of chartered flights b...  ...    0\n",
              "6   FORMER DEMOCRAT WARNS Young Americans: “Rioter...  ...    1\n",
              "7   Car bomber kills at least 15 in Yemeni port Ad...  ...    0\n",
              "8   U.S. Interior Secretary investigated over spee...  ...    0\n",
              "9   Clinton: Senate should consider Obama's high c...  ...    0\n",
              "10   FBI Is Investigating Itself After Its Twitter...  ...    1\n",
              "11   These Secret Koch Bros. Memos Expose Propagan...  ...    1\n",
              "12  Blaming judges is 'corrosive,' says a judge wh...  ...    0\n",
              "13   Bill Maher Announces Sarah Palin Is Becoming ...  ...    1\n",
              "14  U.N. rights boss urges Mexico not to enshrine ...  ...    0\n",
              "15  Japan's slide into war chronicled in Emperor H...  ...    0\n",
              "16  PRO-LIFE LICENSE PLATE DEEMED ‘Patently Offens...  ...    1\n",
              "17   Economist Responsible For ‘Reaganomics’ Makes...  ...    1\n",
              "18  U.S. bombers fly off North Korea's coast in sh...  ...    0\n",
              "19  Peru's Kuczynski swears in new Cabinet, opposi...  ...    0\n",
              "20  Judge blocks Indiana governor's order barring ...  ...    0\n",
              "21  U.S. theory on Democratic Party breach: Hacker...  ...    0\n",
              "22  FBI DATA Shows Black-On-Black Murders Off The ...  ...    1\n",
              "23  SHRILLARY GIVES BITTER CONCESSION SPEECH In Ne...  ...    1\n",
              "24   Trump Gets His A** Handed To Him By British L...  ...    1\n",
              "25  Burr: Nunes stepped aside to protect Russia pr...  ...    0\n",
              "26  U.S. farm groups discuss policy with Clinton s...  ...    0\n",
              "27  JUST IN: NEW DOCUMENTS Found Link Hillary to R...  ...    1\n",
              "28  Putin opens monument to Stalin's victims, diss...  ...    0\n",
              "29  France to lead investigation into A380 engine ...  ...    0\n",
              "\n",
              "[30 rows x 5 columns]"
            ]
          },
          "metadata": {
            "tags": []
          },
          "execution_count": 3
        }
      ]
    },
    {
      "cell_type": "code",
      "metadata": {
        "id": "AJat0QgmvJ51"
      },
      "source": [
        "df = data"
      ],
      "execution_count": null,
      "outputs": []
    },
    {
      "cell_type": "markdown",
      "metadata": {
        "id": "WcmUWKecZDFj"
      },
      "source": [
        "# ***Data Pre-processing***"
      ]
    },
    {
      "cell_type": "markdown",
      "metadata": {
        "id": "Fx7IPDsIZYfO"
      },
      "source": [
        "Steps for pre processing\r\n",
        "\r\n",
        "\r\n",
        "1.   Breakign the sentences into lowercase words using the RegexTokenizer\r\n",
        "2.   Stop words removal\r\n",
        "3. applying the count vectorizer on the data to get the count of each word in a sentence\r\n",
        "4. Encoding the data using the TF-IDF technique (inverse frequency encoding)\r\n",
        "\r\n"
      ]
    },
    {
      "cell_type": "code",
      "metadata": {
        "id": "Sb2UaXx1x9GK",
        "colab": {
          "base_uri": "https://localhost:8080/",
          "height": 53
        },
        "outputId": "6944aa1f-6608-4952-c17a-a5c552ab0540"
      },
      "source": [
        "def removePunc(stringList):\r\n",
        "  return [e.lower() for e in stringList if e.isalnum()]\r\n",
        "\r\n",
        "def removeStopWords(stringList):\r\n",
        "  return [e for e in stringList if e not in stopWords]\r\n",
        "\r\n",
        "def lowerSrtings(stringList):\r\n",
        "  return [e.lower() for e in stringList]\r\n",
        "\r\n",
        "'''def encodeData(stringList):\r\n",
        "  return [w2vModel[e] for e in stringList]\r\n",
        "\r\n",
        "def singleVector(vectorList):\r\n",
        "  return [np.mean(np.array(e)) for e in vectorList]'''"
      ],
      "execution_count": null,
      "outputs": [
        {
          "output_type": "execute_result",
          "data": {
            "application/vnd.google.colaboratory.intrinsic+json": {
              "type": "string"
            },
            "text/plain": [
              "'def encodeData(stringList):\\n  return [w2vModel[e] for e in stringList]\\n\\ndef singleVector(vectorList):\\n  return [np.mean(np.array(e)) for e in vectorList]'"
            ]
          },
          "metadata": {
            "tags": []
          },
          "execution_count": 5
        }
      ]
    },
    {
      "cell_type": "code",
      "metadata": {
        "id": "yMzOgjD310-t"
      },
      "source": [
        ""
      ],
      "execution_count": null,
      "outputs": []
    },
    {
      "cell_type": "code",
      "metadata": {
        "id": "Bz9Flpz7vH6-"
      },
      "source": [
        "df['title'] = df.apply(lambda row: nltk.word_tokenize(row['title']), axis=1)\r\n",
        "df['text'] = df.apply(lambda row: nltk.word_tokenize(row['text']), axis=1)\r\n",
        "\r\n",
        "df['text'] = df.apply(lambda row: lowerSrtings(row['text']), axis=1)\r\n",
        "df['title'] = df.apply(lambda row: lowerSrtings(row['title']), axis=1)\r\n",
        "\r\n",
        "df['text'] = df.apply(lambda row: removeStopWords(row['text']), axis=1)\r\n",
        "df['title'] = df.apply(lambda row: removeStopWords(row['title']), axis=1)\r\n",
        "\r\n",
        "df['text'] = df.apply(lambda row: removePunc(row['text']), axis=1)\r\n",
        "df['title'] = df.apply(lambda row: removePunc(row['title']), axis=1)\r\n",
        "\r\n",
        "\r\n",
        "\r\n",
        "'''tokenized_texts = list(df['text']) + list(df['title'])\r\n",
        "w2vModel = Word2Vec(tokenized_texts,min_count=1)\r\n",
        "\r\n",
        "df['text'] = df.apply(lambda row: encodeData(row['text']), axis=1)\r\n",
        "df['title'] = df.apply(lambda row: encodeData(row['title']), axis=1)\r\n",
        "\r\n",
        "df['text'] = df.apply(lambda row: singleVector(row['text']), axis=1)\r\n",
        "df['title'] = df.apply(lambda row: singleVector(row['title']), axis=1)\r\n",
        "'''\r\n",
        "le.fit(list(df['subject']))\r\n",
        "dct = {}\r\n",
        "for i,j in enumerate(list(le.classes_)):\r\n",
        "  dct[j] = i\r\n",
        "\r\n",
        "df['subject'] = df.apply(lambda row: dct[row['subject']], axis=1)"
      ],
      "execution_count": null,
      "outputs": []
    },
    {
      "cell_type": "code",
      "metadata": {
        "id": "ppS7EGasdtPc"
      },
      "source": [
        "df = df.drop(columns='date')"
      ],
      "execution_count": null,
      "outputs": []
    },
    {
      "cell_type": "code",
      "metadata": {
        "id": "54XM02yzbWpz"
      },
      "source": [
        ""
      ],
      "execution_count": null,
      "outputs": []
    },
    {
      "cell_type": "code",
      "metadata": {
        "id": "iQRqMdsh2EqM"
      },
      "source": [
        "df1 = df"
      ],
      "execution_count": null,
      "outputs": []
    },
    {
      "cell_type": "code",
      "metadata": {
        "colab": {
          "base_uri": "https://localhost:8080/",
          "height": 200
        },
        "id": "9B6TK41C2Hc0",
        "outputId": "4ed7c4e1-b7a6-4d3e-a4d7-540ec8d1394d"
      },
      "source": [
        "df.head()"
      ],
      "execution_count": null,
      "outputs": [
        {
          "output_type": "execute_result",
          "data": {
            "text/html": [
              "<div>\n",
              "<style scoped>\n",
              "    .dataframe tbody tr th:only-of-type {\n",
              "        vertical-align: middle;\n",
              "    }\n",
              "\n",
              "    .dataframe tbody tr th {\n",
              "        vertical-align: top;\n",
              "    }\n",
              "\n",
              "    .dataframe thead th {\n",
              "        text-align: right;\n",
              "    }\n",
              "</style>\n",
              "<table border=\"1\" class=\"dataframe\">\n",
              "  <thead>\n",
              "    <tr style=\"text-align: right;\">\n",
              "      <th></th>\n",
              "      <th>title</th>\n",
              "      <th>text</th>\n",
              "      <th>subject</th>\n",
              "      <th>fake</th>\n",
              "    </tr>\n",
              "  </thead>\n",
              "  <tbody>\n",
              "    <tr>\n",
              "      <th>0</th>\n",
              "      <td>[protester, comment, angers, msnbc, anchor, gr...</td>\n",
              "      <td>[rich, live, feed, msnbc, trying, show, great,...</td>\n",
              "      <td>4</td>\n",
              "      <td>1</td>\n",
              "    </tr>\n",
              "    <tr>\n",
              "      <th>1</th>\n",
              "      <td>[tillerson, first, day, addresses, dissent, ca...</td>\n",
              "      <td>[washington, reuters, secretary, state, rex, t...</td>\n",
              "      <td>6</td>\n",
              "      <td>0</td>\n",
              "    </tr>\n",
              "    <tr>\n",
              "      <th>2</th>\n",
              "      <td>[new, mexico, erasing, actual, science, scienc...</td>\n",
              "      <td>[education, standards, seems, term, fraught, i...</td>\n",
              "      <td>2</td>\n",
              "      <td>1</td>\n",
              "    </tr>\n",
              "    <tr>\n",
              "      <th>3</th>\n",
              "      <td>[china, warns, attempts, contain, beijing, tru...</td>\n",
              "      <td>[washington, reuters, china, ambassador, washi...</td>\n",
              "      <td>7</td>\n",
              "      <td>0</td>\n",
              "    </tr>\n",
              "    <tr>\n",
              "      <th>4</th>\n",
              "      <td>[issue, rules, tighten, individual, travel, re...</td>\n",
              "      <td>[washington, reuters, trump, administration, p...</td>\n",
              "      <td>6</td>\n",
              "      <td>0</td>\n",
              "    </tr>\n",
              "  </tbody>\n",
              "</table>\n",
              "</div>"
            ],
            "text/plain": [
              "                                               title  ... fake\n",
              "0  [protester, comment, angers, msnbc, anchor, gr...  ...    1\n",
              "1  [tillerson, first, day, addresses, dissent, ca...  ...    0\n",
              "2  [new, mexico, erasing, actual, science, scienc...  ...    1\n",
              "3  [china, warns, attempts, contain, beijing, tru...  ...    0\n",
              "4  [issue, rules, tighten, individual, travel, re...  ...    0\n",
              "\n",
              "[5 rows x 4 columns]"
            ]
          },
          "metadata": {
            "tags": []
          },
          "execution_count": 9
        }
      ]
    },
    {
      "cell_type": "code",
      "metadata": {
        "id": "KF48peQb_rMG"
      },
      "source": [
        "l=list(df['text'])  \r\n",
        "texts = [' '.join(i) for i in l]\r\n",
        "\r\n",
        "ll = list(df['title'])\r\n",
        "titles = [' '.join(i) for i in ll]"
      ],
      "execution_count": null,
      "outputs": []
    },
    {
      "cell_type": "code",
      "metadata": {
        "id": "Shne5D3XJYUc"
      },
      "source": [
        "vectorizer_title = TfidfVectorizer(min_df=4)\r\n",
        "X_title = vectorizer_title.fit_transform(titles)"
      ],
      "execution_count": null,
      "outputs": []
    },
    {
      "cell_type": "code",
      "metadata": {
        "id": "SxTB1Ux0vS0o"
      },
      "source": [
        "svd_n = TruncatedSVD(n_components=2, n_iter=7, random_state=42)\r\n",
        "X_title_reduced = svd_n.fit_transform(X_title)"
      ],
      "execution_count": null,
      "outputs": []
    },
    {
      "cell_type": "code",
      "metadata": {
        "id": "WrTQhItTvgt5"
      },
      "source": [
        "vectorizer = TfidfVectorizer(min_df=4)\r\n",
        "X_text = vectorizer.fit_transform(texts)"
      ],
      "execution_count": null,
      "outputs": []
    },
    {
      "cell_type": "code",
      "metadata": {
        "id": "apxeo319Q6XQ"
      },
      "source": [
        "svd = TruncatedSVD(n_components=5, n_iter=7, random_state=42)\r\n",
        "X_text_reduced = svd.fit_transform(X_text)"
      ],
      "execution_count": null,
      "outputs": []
    },
    {
      "cell_type": "code",
      "metadata": {
        "id": "XGSBz95EwZAt"
      },
      "source": [
        "X_subject = np.array(df['subject'])\r\n",
        "Y = np.array(df['fake'])"
      ],
      "execution_count": null,
      "outputs": []
    },
    {
      "cell_type": "code",
      "metadata": {
        "id": "pa5Smi2kwwqk"
      },
      "source": [
        "X_transformed = []\r\n",
        "\r\n",
        "for i,j,k in zip(X_title_reduced,X_text_reduced,X_subject):\r\n",
        "  g = np.append(i,j)\r\n",
        "  g = np.append(g,k)\r\n",
        "  X_transformed.append(g)\r\n",
        "  #print(len(g))\r\n",
        "  #print(g)\r\n",
        "  #break"
      ],
      "execution_count": null,
      "outputs": []
    },
    {
      "cell_type": "code",
      "metadata": {
        "id": "7lCCQLt1467v"
      },
      "source": [
        "X_transformed = np.array(X_transformed)"
      ],
      "execution_count": null,
      "outputs": []
    },
    {
      "cell_type": "code",
      "metadata": {
        "colab": {
          "base_uri": "https://localhost:8080/"
        },
        "id": "ipYAuyt15FWh",
        "outputId": "fbbf6c88-3af9-4e25-8b05-11d89d35e69f"
      },
      "source": [
        "X_transformed[0]"
      ],
      "execution_count": null,
      "outputs": [
        {
          "output_type": "execute_result",
          "data": {
            "text/plain": [
              "array([ 1.75265198e-02, -1.47647539e-02,  3.51626418e-02, -2.38295631e-02,\n",
              "       -2.56282879e-03, -3.81993574e-02, -3.33043786e-02,  4.00000000e+00])"
            ]
          },
          "metadata": {
            "tags": []
          },
          "execution_count": 116
        }
      ]
    },
    {
      "cell_type": "code",
      "metadata": {
        "id": "LKtnWekL5JSd"
      },
      "source": [
        "from sklearn.model_selection import train_test_split\r\n",
        "X_train, X_test, y_train, y_test = train_test_split(X_transformed, Y, test_size=0.2, random_state=42)"
      ],
      "execution_count": null,
      "outputs": []
    },
    {
      "cell_type": "code",
      "metadata": {
        "id": "m0klJ18U5bQn"
      },
      "source": [
        "from sklearn.ensemble import RandomForestClassifier\r\n",
        "clf = RandomForestClassifier(max_depth=3) "
      ],
      "execution_count": null,
      "outputs": []
    },
    {
      "cell_type": "code",
      "metadata": {
        "id": "f8OHOHTE5tFd"
      },
      "source": [
        "model = clf.fit(X_train, y_train)"
      ],
      "execution_count": null,
      "outputs": []
    }
  ]
}